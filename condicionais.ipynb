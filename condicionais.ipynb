{
 "metadata": {
  "language_info": {
   "codemirror_mode": {
    "name": "ipython",
    "version": 3
   },
   "file_extension": ".py",
   "mimetype": "text/x-python",
   "name": "python",
   "nbconvert_exporter": "python",
   "pygments_lexer": "ipython3",
   "version": "3.8.5-final"
  },
  "orig_nbformat": 2,
  "kernelspec": {
   "name": "python3",
   "display_name": "Python 3.8.5 64-bit",
   "metadata": {
    "interpreter": {
     "hash": "df0893f56f349688326838aaeea0de204df53a132722cbd565e54b24a8fec5f6"
    }
   }
  }
 },
 "nbformat": 4,
 "nbformat_minor": 2,
 "cells": [
  {
   "cell_type": "code",
   "execution_count": 17,
   "metadata": {},
   "outputs": [
    {
     "output_type": "stream",
     "name": "stdout",
     "text": [
      "2\n1\n0\nBoom!!\n"
     ]
    }
   ],
   "source": [
    "numero = int(input('Digite um numero: '))\n",
    "while numero > 0:\n",
    "    numero = numero - 1\n",
    "    print(numero)\n",
    "print('Boom!!')"
   ]
  },
  {
   "cell_type": "code",
   "execution_count": 19,
   "metadata": {},
   "outputs": [
    {
     "output_type": "stream",
     "name": "stdout",
     "text": [
      "par\n"
     ]
    }
   ],
   "source": [
    "if 10%2==0 :\n",
    "    print('par')\n",
    "else:\n",
    "    print('impar')"
   ]
  },
  {
   "cell_type": "code",
   "execution_count": 20,
   "metadata": {},
   "outputs": [
    {
     "output_type": "stream",
     "name": "stdout",
     "text": [
      "quantidade de numeros pares 51\n"
     ]
    }
   ],
   "source": [
    "numero = 200\n",
    "quantidade = 0\n",
    "while numero <= 300:\n",
    "    if numero%2 == 0 :\n",
    "        quantidade = quantidade +1\n",
    "    numero = numero + 1\n",
    "print('quantidade de numeros pares',quantidade)\n"
   ]
  },
  {
   "cell_type": "code",
   "execution_count": null,
   "metadata": {},
   "outputs": [],
   "source": []
  },
  {
   "cell_type": "code",
   "execution_count": 30,
   "metadata": {},
   "outputs": [
    {
     "output_type": "stream",
     "name": "stdout",
     "text": [
      "6\n8\nA soma eh 6\n"
     ]
    }
   ],
   "source": [
    "## 1- Contar quantas vezes o computador levou para discubrir\n",
    "## qual numero 0 e 100 voce digitou informando somente se é maior ou menor\n",
    "\n",
    "from random import randint\n",
    "\n",
    "num = int(input('Digite um numero inteiro 0 a 100: '))\n",
    "soma = 0\n",
    "numero_tentar_descobir = randint(0,100)\n",
    "\n",
    "while num != numero_tentar_descobir:\n",
    "    # se o numero foir maior ex voce digitou 50 e ele sortiou 34\n",
    "    #randint(35,100)\n",
    "    # se o numero for menor se ele sortiou um 75\n",
    "    #randint(0,75)\n",
    "    # contar quantas tentativas foram executadas até o computador descobrir qual numero voce digitou\n",
    "    # na hora 1que for == os dois numero sai do loop\n",
    "\n",
    "    soma = soma + numero_sorteado\n",
    "    numero_sorteado = randint(1,10)\n",
    "    print(numero_sorteado)\n",
    "print('A soma eh', soma)\n"
   ]
  },
  {
   "cell_type": "code",
   "execution_count": null,
   "metadata": {},
   "outputs": [],
   "source": []
  }
 ]
}