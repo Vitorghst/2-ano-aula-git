{
 "metadata": {
  "language_info": {
   "codemirror_mode": {
    "name": "ipython",
    "version": 3
   },
   "file_extension": ".py",
   "mimetype": "text/x-python",
   "name": "python",
   "nbconvert_exporter": "python",
   "pygments_lexer": "ipython3",
   "version": "3.9.2-final"
  },
  "orig_nbformat": 2,
  "kernelspec": {
   "name": "python3",
   "display_name": "Python 3.9.2 64-bit",
   "metadata": {
    "interpreter": {
     "hash": "959ca89edd32ba7677aade988975f27343732ce8988bdfbedde59fee64a9d848"
    }
   }
  }
 },
 "nbformat": 4,
 "nbformat_minor": 2,
 "cells": [
  {
   "cell_type": "code",
   "execution_count": 6,
   "metadata": {},
   "outputs": [
    {
     "output_type": "execute_result",
     "data": {
      "text/plain": [
       "'valor2'"
      ]
     },
     "metadata": {},
     "execution_count": 6
    }
   ],
   "source": []
  },
  {
   "cell_type": "code",
   "execution_count": 8,
   "metadata": {},
   "outputs": [
    {
     "output_type": "execute_result",
     "data": {
      "text/plain": [
       "'olá mundo'"
      ]
     },
     "metadata": {},
     "execution_count": 8
    }
   ],
   "source": []
  },
  {
   "cell_type": "code",
   "execution_count": 23,
   "metadata": {},
   "outputs": [
    {
     "output_type": "stream",
     "name": "stdout",
     "text": [
      "Hericson 43 9999-9999\n2\nYamaha Drag Star\nSuzuki Intruder\n"
     ]
    }
   ],
   "source": []
  },
  {
   "cell_type": "code",
   "execution_count": 1,
   "metadata": {},
   "outputs": [
    {
     "output_type": "execute_result",
     "data": {
      "text/plain": [
       "({'Dados do Paciente': {'Nome': 'Vitor',\n",
       "   'Email': 'vitorjose98@hotmail.com',\n",
       "   'Telefone': '4332569661',\n",
       "   'celular': '43998235507',\n",
       "   'idade': 23,\n",
       "   'nomedamae': 'Celia Regina dos Santos'}},\n",
       " {'Relatorios do Paciente': {'sintomas': 'Febre', 'patologia': 'Cancer'}})"
      ]
     },
     "metadata": {},
     "execution_count": 1
    }
   ],
   "source": [
    "##Execicios...\n",
    "#Desenvolva um formulario de cadastro de pacentes.\n",
    "#Campo:\n",
    "# Dados do Paciente: Nome , email, telefones, data nacimento, nome da mae\n",
    "# Estado Clinico : sintomas, patologias\n",
    "\n",
    "nome = input('Digite seu nome:')\n",
    "email = input('Digite seu email:')\n",
    "telefone = input('Digite seu telefone fixo:')\n",
    "celular = input('Digite seu celular:')\n",
    "nomedamae = input('Digite o nome de sua mae:')\n",
    "var1 = int( input(\"Digite seu ano de nascimento: \") )\n",
    "var2 = 2021\n",
    "idade = var2 - var1\n",
    "sintomas = input('Digite os sintomas:')\n",
    "pato = input('Digite suas patologias:')\n",
    "\n",
    "\n",
    "Consulta = {'Dados do Paciente':{\n",
    "    'Nome' : nome,\n",
    "    'Email' : email,\n",
    "    'Telefone': telefone,\n",
    "    'celular' : celular,\n",
    "    'idade' : idade,\n",
    "    'nomedamae' : nomedamae,\n",
    "    \n",
    "\n",
    "}}\n",
    "\n",
    "\n",
    "\n",
    "EstadoClinico = {'Relatorios do Paciente':{\n",
    "    'sintomas' : sintomas,\n",
    "    'patologia' : pato,\n",
    "\n",
    "}}\n",
    "\n",
    "\n",
    "\n",
    "Consulta, EstadoClinico"
   ]
  },
  {
   "cell_type": "code",
   "execution_count": null,
   "metadata": {},
   "outputs": [],
   "source": []
  },
  {
   "cell_type": "code",
   "execution_count": null,
   "metadata": {},
   "outputs": [],
   "source": []
  }
 ]
}